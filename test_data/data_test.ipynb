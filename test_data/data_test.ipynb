{
  "cells": [
    {
      "cell_type": "code",
      "execution_count": 8,
      "metadata": {
        "colab": {
          "base_uri": "https://localhost:8080/"
        },
        "id": "-_qIF176hBC8",
        "outputId": "4293010f-c0c6-4546-8663-eac84be00d7b"
      },
      "outputs": [
        {
          "name": "stdout",
          "output_type": "stream",
          "text": [
            "Intentando calcular y ajustar la diferencia porcentual entre ml_cube.npy y filtered_cube.npy...\n",
            "Ajustando 'ml_cube.npy' de (80, 1988, 1987) a (80, 1988, 1986)...\n",
            "\n",
            "Diferencia porcentual (magnitud del cambio, filtered_cube vs ml_cube) después del ajuste:\n",
            "[59.07134  53.212883 46.731396 46.808517 55.754387 52.759064 39.63813\n",
            " 29.386288 20.61515  15.640247] ...\n",
            "\n",
            "Valor mínimo de la diferencia porcentual: 0.00%\n",
            "Valor máximo de la diferencia porcentual: 187.29%\n",
            "Cantidad de píxeles con la diferencia porcentual máxima (187.29%): 1\n",
            "Valor promedio de la diferencia porcentual: 2.28%\n",
            "Desviación estándar de la diferencia porcentual: 1.77%\n"
          ]
        }
      ],
      "source": [
        "# Comparación entre imágenes filtradas por RED Y PROGRAMA DE FILTRADO\n",
        "import numpy as np\n",
        "\n",
        "def calcular_diferencia_porcentual_ajustada(array1_path, array2_path):\n",
        "    \"\"\"\n",
        "    Calcula la diferencia porcentual entre dos arrays NumPy elemento por elemento,\n",
        "    ajustando las dimensiones si difieren por una unidad en la última dimensión.\n",
        "\n",
        "    Args:\n",
        "        array1_path (str): Ruta al primer archivo .npy.\n",
        "        array2_path (str): Ruta al segundo archivo .npy.\n",
        "\n",
        "    Returns:\n",
        "        numpy.ndarray: Un array con las diferencias porcentuales.\n",
        "                        Retorna None si ocurre un error o las dimensiones no son ajustables.\n",
        "    \"\"\"\n",
        "    try:\n",
        "        arr1 = np.load(array1_path)\n",
        "        arr2 = np.load(array2_path)\n",
        "    except FileNotFoundError:\n",
        "        print(f\"Error: Asegúrate de que los archivos '{array1_path}' y '{array2_path}' existan en el directorio.\")\n",
        "        return None\n",
        "    except Exception as e:\n",
        "        print(f\"Error al cargar los archivos .npy: {e}\")\n",
        "        return None\n",
        "\n",
        "    # Verificar y ajustar las dimensiones\n",
        "    if arr1.shape == arr2.shape:\n",
        "        print(\"Las dimensiones de los arrays ya coinciden. No se requiere ajuste.\")\n",
        "    elif arr1.ndim != arr2.ndim:\n",
        "        print(f\"Error: Los arrays tienen un número diferente de dimensiones: {arr1.ndim} vs {arr2.ndim}.\")\n",
        "        return None\n",
        "    else:\n",
        "        # Encontrar el array más grande y el más pequeño\n",
        "        if arr1.shape[:-1] == arr2.shape[:-1] and abs(arr1.shape[-1] - arr2.shape[-1]) == 1:\n",
        "            if arr1.shape[-1] > arr2.shape[-1]:\n",
        "                print(f\"Ajustando '{array1_path}' de {arr1.shape} a {arr2.shape}...\")\n",
        "                arr1 = arr1[..., :arr2.shape[-1]] # Recortar la última dimensión de arr1\n",
        "            else: # arr2.shape[-1] > arr1.shape[-1]\n",
        "                print(f\"Ajustando '{array2_path}' de {arr2.shape} a {arr1.shape}...\")\n",
        "                arr2 = arr2[..., :arr1.shape[-1]] # Recortar la última dimensión de arr2\n",
        "        else:\n",
        "            print(f\"Error: Las dimensiones de los arrays no coinciden y no se pueden ajustar automáticamente de la forma esperada.\")\n",
        "            print(f\"Dimensiones: {arr1.shape} vs {arr2.shape}\")\n",
        "            print(\"Este script solo ajusta la última dimensión si difieren por una unidad y el resto de dimensiones coinciden.\")\n",
        "            return None\n",
        "\n",
        "    # Volver a verificar que las dimensiones ahora coinciden\n",
        "    if arr1.shape != arr2.shape:\n",
        "        print(\"Error: Las dimensiones de los arrays no coinciden después del intento de ajuste.\")\n",
        "        print(f\"Dimensiones finales: {arr1.shape} vs {arr2.shape}\")\n",
        "        return None\n",
        "\n",
        "    diferencia_porcentual = np.where(arr1 != 0, np.abs(((arr2 - arr1) / arr1) * 100), 0)\n",
        "\n",
        "    return diferencia_porcentual\n",
        "\n",
        "if __name__ == \"__main__\":\n",
        "    ml_cube_path = \"ml_cube.npy\"\n",
        "    filtered_cube_path = \"filtered_cube.npy\"\n",
        "\n",
        "    print(f\"Intentando calcular y ajustar la diferencia porcentual entre {ml_cube_path} y {filtered_cube_path}...\")\n",
        "\n",
        "    diferencias = calcular_diferencia_porcentual_ajustada(ml_cube_path, filtered_cube_path)\n",
        "\n",
        "    if diferencias is not None:\n",
        "        print(\"\\nDiferencia porcentual (magnitud del cambio, filtered_cube vs ml_cube) después del ajuste:\")\n",
        "\n",
        "        print(diferencias.flatten()[:10], \"...\")\n",
        "\n",
        "        print(f\"\\nValor mínimo de la diferencia porcentual: {np.min(diferencias):.2f}%\")\n",
        "        print(f\"Valor máximo de la diferencia porcentual: {np.max(diferencias):.2f}%\")\n",
        "\n",
        "\n",
        "        max_diferencia = np.max(diferencias)\n",
        "\n",
        "        count_max_pixels = np.sum(np.isclose(diferencias, max_diferencia))\n",
        "        print(f\"Cantidad de píxeles con la diferencia porcentual máxima ({max_diferencia:.2f}%): {count_max_pixels}\")\n",
        "\n",
        "\n",
        "        print(f\"Valor promedio de la diferencia porcentual: {np.mean(diferencias):.2f}%\")\n",
        "        print(f\"Desviación estándar de la diferencia porcentual: {np.std(diferencias):.2f}%\")\n"
      ]
    }
  ],
  "metadata": {
    "colab": {
      "provenance": []
    },
    "kernelspec": {
      "display_name": "Python 3",
      "name": "python3"
    },
    "language_info": {
      "name": "python"
    }
  },
  "nbformat": 4,
  "nbformat_minor": 0
}
